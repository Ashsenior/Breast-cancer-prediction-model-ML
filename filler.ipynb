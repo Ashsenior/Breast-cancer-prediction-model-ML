{
 "cells": [
  {
   "cell_type": "code",
   "execution_count": 1,
   "id": "85b66acc",
   "metadata": {},
   "outputs": [],
   "source": [
    "import pandas as pd \n",
    "import numpy as np\n",
    "from sklearn.cluster import KMeans"
   ]
  },
  {
   "cell_type": "code",
   "execution_count": 6,
   "id": "aa808cba",
   "metadata": {},
   "outputs": [],
   "source": [
    "def fill_my_data(df,num_method,time_series=False):\n",
    "    if time_series:\n",
    "        pass\n",
    "    else :\n",
    "        for label ,content in df.items():\n",
    "            if pd.api.types.is_string_dtype(content):\n",
    "                df[label] = content.astype(\"category\").cat.as_ordered()\n",
    "        for label,content in df.items():\n",
    "            if pd.api.types.is_categorical_dtype(content):\n",
    "                df[label] = pd.Categorical(content).codes+1\n",
    "                df[label+\"_is_missing\"] = pd.isnull(content)\n",
    "            elif pd.api.types.is_numeric_dtype(content):\n",
    "                if pd.isnull(content).sum():\n",
    "                    df[label+'_is_missing'] = pd.isnull(content)\n",
    "                    if num_method=='median':\n",
    "                        df[label] = content.fillna(content.median())\n",
    "                    else :\n",
    "                        df[label] = content.fillna(content.mean())\n",
    "        "
   ]
  },
  {
   "cell_type": "code",
   "execution_count": null,
   "id": "bbcf4849",
   "metadata": {},
   "outputs": [],
   "source": []
  }
 ],
 "metadata": {
  "kernelspec": {
   "display_name": "Python 3 (ipykernel)",
   "language": "python",
   "name": "python3"
  },
  "language_info": {
   "codemirror_mode": {
    "name": "ipython",
    "version": 3
   },
   "file_extension": ".py",
   "mimetype": "text/x-python",
   "name": "python",
   "nbconvert_exporter": "python",
   "pygments_lexer": "ipython3",
   "version": "3.9.9"
  }
 },
 "nbformat": 4,
 "nbformat_minor": 5
}
