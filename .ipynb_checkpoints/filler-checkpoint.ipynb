{
 "cells": [
  {
   "cell_type": "code",
   "execution_count": 8,
   "id": "85b66acc",
   "metadata": {},
   "outputs": [],
   "source": [
    "import pandas as pd \n",
    "import numpy as np\n",
    "from sklearn.preprocessing import StandardScaler"
   ]
  },
  {
   "cell_type": "code",
   "execution_count": 12,
   "id": "aa808cba",
   "metadata": {},
   "outputs": [],
   "source": [
    "def ready_data(csv_file_name,num_method=\"median\",time_series=False):\n",
    "    df = pd.resd_csv(csv_file_name+\".csv\",low_memory=False)\n",
    "    if time_series:\n",
    "        datec = get_date_column(csv_file_name)\n",
    "        df = pd.read_csv(csv_file_name+\".csv\",low_memory=False,parse_date=[datec])\n",
    "        df.sort_values(by=[datec],inplace=True,ascending=True)\n",
    "    for label ,content in df.items():\n",
    "        if pd.api.types.is_string_dtype(content):\n",
    "            df[label] = content.astype(\"category\").cat.as_ordered()\n",
    "    for label,content in df.items():\n",
    "        if pd.api.types.is_categorical_dtype(content):\n",
    "            df[label] = pd.Categorical(content).codes+1\n",
    "            df[label+\"_is_missing\"] = pd.isnull(content)\n",
    "        if pd.api.type.is_datetime64_dtype(content):\n",
    "            df[label] = content.dropna(axis=0,inplace=True)\n",
    "        elif pd.api.types.is_numeric_dtype(content):\n",
    "            if pd.isnull(content).sum():\n",
    "                df[label+'_is_missing'] = pd.isnull(content)\n",
    "                if num_method=='median':\n",
    "                    df[label] = content.fillna(content.median())\n",
    "                else :\n",
    "                    df[label] = content.fillna(content.mean())\n",
    "    if time_series:\n",
    "        df.Year = df[datec].dt.year\n",
    "        df.Month = df[datec].dt.month\n",
    "        df.day = df[datec].dt.day\n",
    "        df.DayOfWeek = df[datec].dt.dayofweek\n",
    "        df.DayOfYear = df[datec].dt.dayofyear\n",
    "        df.drop(datec,axis=1,inplace=True)\n",
    "    scaled_df = scale(df)\n",
    "    print(\"NOTE : New columns were added in your dataframe including (is_missing) columns and (date) columms. \")\n",
    "    return scaled_df\n",
    "        "
   ]
  },
  {
   "cell_type": "code",
   "execution_count": 13,
   "id": "bbcf4849",
   "metadata": {},
   "outputs": [],
   "source": [
    "def get_time_series(csv_file):\n",
    "    datec = get_date_column(csv_file)\n",
    "    df = pd.read_csv(csv_file_name+\".csv\",low_memory=False,parse_date=[datec])\n",
    "    df.sort_values(by=[datec],inplace=True,ascending=True)\n",
    "    for label,content in df.items():\n",
    "        if pd.api.type.is_datetime64_dtype(content):\n",
    "            df[label] = content.dropna(axis=0,inplace=True)\n",
    "    df.Year = df[datec].dt.year\n",
    "    df.Month = df[datec].dt.month\n",
    "    df.day = df[datec].dt.day\n",
    "    df.DayOfWeek = df[datec].dt.dayofweek\n",
    "    df.DayOfYear = df[datec].dt.dayofyear\n",
    "    df.drop(datec,axis=1,inplace=True)\n",
    "    print(\"NOTE : New columns were added in your dataframe .\")\n",
    "    return df"
   ]
  },
  {
   "cell_type": "code",
   "execution_count": 14,
   "id": "83a98398",
   "metadata": {},
   "outputs": [],
   "source": [
    "def get_date_column(csv_file_name):\n",
    "    df = pd.read_csv(csv_file_name+\".csv\",low_memory=False)\n",
    "    for label,content in df.items():\n",
    "        if pd.api.types.is_string_dtype(content):\n",
    "            if \"date\" in label.lower():\n",
    "                datec = column\n",
    "    return datec"
   ]
  },
  {
   "cell_type": "code",
   "execution_count": 9,
   "id": "25f7fb38",
   "metadata": {},
   "outputs": [],
   "source": [
    "def scale(df):\n",
    "    scaler = StandardScaler()\n",
    "    scaled_df = pd.DataFrame(scaler.fit_transform(df),columns=df.columns)\n",
    "    return scaled_df"
   ]
  },
  {
   "cell_type": "code",
   "execution_count": null,
   "id": "2ad9eb4f",
   "metadata": {},
   "outputs": [],
   "source": []
  }
 ],
 "metadata": {
  "kernelspec": {
   "display_name": "Python 3 (ipykernel)",
   "language": "python",
   "name": "python3"
  },
  "language_info": {
   "codemirror_mode": {
    "name": "ipython",
    "version": 3
   },
   "file_extension": ".py",
   "mimetype": "text/x-python",
   "name": "python",
   "nbconvert_exporter": "python",
   "pygments_lexer": "ipython3",
   "version": "3.9.9"
  }
 },
 "nbformat": 4,
 "nbformat_minor": 5
}
